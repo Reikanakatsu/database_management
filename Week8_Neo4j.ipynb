{
 "cells": [
  {
   "cell_type": "markdown",
   "id": "champion-assurance",
   "metadata": {
    "id": "champion-assurance"
   },
   "source": [
    "Neo4j Graph Database"
   ]
  },
  {
   "cell_type": "code",
   "execution_count": 4,
   "id": "abroad-assistant",
   "metadata": {
    "id": "abroad-assistant"
   },
   "outputs": [
    {
     "name": "stdout",
     "output_type": "stream",
     "text": [
      "Collecting neo4j\n",
      "  Downloading neo4j-4.4.1.tar.gz (89 kB)\n",
      "Requirement already satisfied: pytz in c:\\users\\nitinnayak\\appdata\\local\\programs\\python\\python37\\lib\\site-packages (from neo4j) (2020.5)\n",
      "Building wheels for collected packages: neo4j\n",
      "  Building wheel for neo4j (setup.py): started\n",
      "  Building wheel for neo4j (setup.py): finished with status 'done'\n",
      "  Created wheel for neo4j: filename=neo4j-4.4.1-py3-none-any.whl size=114758 sha256=4f96c4b36438e5775d2f770ac47418e9e2d7cdff9c59387f53ee64c454532091\n",
      "  Stored in directory: c:\\users\\nitinnayak\\appdata\\local\\pip\\cache\\wheels\\fd\\15\\02\\8379f87426cd1b74fd5891f49df9fb978423feb97650cd639b\n",
      "Successfully built neo4j\n",
      "Installing collected packages: neo4j\n",
      "Successfully installed neo4j-4.4.1\n"
     ]
    },
    {
     "name": "stderr",
     "output_type": "stream",
     "text": [
      "WARNING: You are using pip version 21.0.1; however, version 22.0.3 is available.\n",
      "You should consider upgrading via the 'c:\\users\\nitinnayak\\appdata\\local\\programs\\python\\python37\\python.exe -m pip install --upgrade pip' command.\n"
     ]
    }
   ],
   "source": [
    "#!pip3 install neo4j\n",
    "#!pip3 install py2neo"
   ]
  },
  {
   "cell_type": "markdown",
   "id": "useful-bearing",
   "metadata": {
    "id": "useful-bearing"
   },
   "source": [
    "#### Connect to the Database"
   ]
  },
  {
   "cell_type": "code",
   "execution_count": 8,
   "id": "neither-metabolism",
   "metadata": {
    "id": "neither-metabolism",
    "outputId": "20ff79ac-1def-4aad-b617-ae4c9e00e3df"
   },
   "outputs": [
    {
     "name": "stdout",
     "output_type": "stream",
     "text": [
      "Successfully connected to Neo4j!\n"
     ]
    }
   ],
   "source": [
    "from neo4j import GraphDatabase\n",
    "\n",
    "database_name = \"apan5400\"\n",
    "username = \"neo4j\"\n",
    "password = \"123\"\n",
    "uri = \"bolt://localhost:7687/\" + database_name\n",
    "\n",
    "driver = GraphDatabase.driver(uri, auth=(username, password))\n",
    "session = driver.session()\n",
    "\n",
    "print(\"Successfully connected to Neo4j!\")"
   ]
  },
  {
   "cell_type": "markdown",
   "id": "lucky-medicare",
   "metadata": {
    "id": "lucky-medicare"
   },
   "source": [
    "#### Create 2 Nodes for Billy and Susan"
   ]
  },
  {
   "cell_type": "code",
   "execution_count": 9,
   "id": "marine-afghanistan",
   "metadata": {
    "id": "marine-afghanistan",
    "outputId": "795d1d09-922b-4f6a-ac9e-1fa5461642e3"
   },
   "outputs": [
    {
     "name": "stdout",
     "output_type": "stream",
     "text": [
      "Node for Billy created successfully!\n",
      "Node for Susan created successfully!\n"
     ]
    }
   ],
   "source": [
    "query1 = (\"CREATE(Billy:Person{name:'Billy',id:'0000'})\")\n",
    "result1 = session.run(query1)\n",
    "print(\"Node for Billy created successfully!\")\n",
    "\n",
    "query2 = (\"CREATE(Susan:Person{name:'Susan',id:'0001'})\")\n",
    "result2 = session.run(query2)\n",
    "print(\"Node for Susan created successfully!\")"
   ]
  },
  {
   "cell_type": "markdown",
   "id": "copyrighted-dallas",
   "metadata": {
    "id": "copyrighted-dallas"
   },
   "source": [
    "#### Connect Billy and Susan as Friends (with Friends_with relationship) (Directional)"
   ]
  },
  {
   "cell_type": "code",
   "execution_count": 10,
   "id": "forward-publisher",
   "metadata": {
    "id": "forward-publisher",
    "outputId": "e888a3f2-afb6-45e8-f209-78f417f85527"
   },
   "outputs": [
    {
     "name": "stdout",
     "output_type": "stream",
     "text": [
      "Billy and Susan are now Friends!\n"
     ]
    }
   ],
   "source": [
    "query3 = (\"MATCH(s:Person{name:'Billy'}),(d:Person{name:'Susan'}) CREATE (s)-[r:Friends_with]->(d)\")\n",
    "result3 = session.run(query3)\n",
    "print(\"Billy and Susan are now Friends!\")"
   ]
  },
  {
   "cell_type": "markdown",
   "id": "governing-contamination",
   "metadata": {
    "id": "governing-contamination"
   },
   "source": [
    "#### Add Attributes for Susan who already exists"
   ]
  },
  {
   "cell_type": "code",
   "execution_count": 11,
   "id": "popular-capability",
   "metadata": {
    "id": "popular-capability",
    "outputId": "c73c750e-7ac3-45f0-c635-661de603b046"
   },
   "outputs": [
    {
     "name": "stdout",
     "output_type": "stream",
     "text": [
      "Susan's attributes are now updated!\n"
     ]
    }
   ],
   "source": [
    "query4 = (\"MERGE (n:Person {name: 'Susan', id:'0001'})\"\n",
    "         \" SET n = {name: 'Susan', id:'0001', age: 34, coat: 'Yellow', hair: 'Brown'} RETURN n\")\n",
    "result4 = session.run(query4)\n",
    "print(\"Susan's attributes are now updated!\")"
   ]
  },
  {
   "cell_type": "markdown",
   "id": "surprised-generator",
   "metadata": {
    "id": "surprised-generator"
   },
   "source": [
    "#### Create Nodes for Joanne and Thomas"
   ]
  },
  {
   "cell_type": "code",
   "execution_count": 12,
   "id": "coupled-myanmar",
   "metadata": {
    "id": "coupled-myanmar",
    "outputId": "8313ee18-3960-4f4b-d6b9-3eff7e613f2b"
   },
   "outputs": [
    {
     "name": "stdout",
     "output_type": "stream",
     "text": [
      "Node for Joanne created successfully!\n",
      "Node for Thomas created successfully!\n"
     ]
    }
   ],
   "source": [
    "query5 = (\"CREATE(Joanne:Person{name:'Joanne',id:'0003'})\")\n",
    "result5 = session.run(query5)\n",
    "print(\"Node for Joanne created successfully!\")\n",
    "          \n",
    "query6 = (\"CREATE(Thomas:Person{name:'Thomas',id:'0002'})\")\n",
    "result6 = session.run(query6)          \n",
    "print(\"Node for Thomas created successfully!\")  "
   ]
  },
  {
   "cell_type": "markdown",
   "id": "nominated-weapon",
   "metadata": {
    "id": "nominated-weapon"
   },
   "source": [
    "#### Create more connections as friends"
   ]
  },
  {
   "cell_type": "code",
   "execution_count": 13,
   "id": "continued-merchandise",
   "metadata": {
    "id": "continued-merchandise",
    "outputId": "d9ed0e8f-b0e3-49e4-f5be-faa0f7284925"
   },
   "outputs": [
    {
     "name": "stdout",
     "output_type": "stream",
     "text": [
      "Thomas and Joanne are now Friends!\n",
      "Joanne and Susan are now Friends!\n",
      "Joanne and Susan are now Friends Bi-Directionally!\n",
      "Thomas and Billy are now Friends!\n"
     ]
    }
   ],
   "source": [
    "## Connect Thomas to Joanne as Friends (Directional)\n",
    "query7 = (\"MATCH(s:Person{name:'Thomas'}),(d:Person{name:'Joanne'}) CREATE (s)-[r:Friends_with]->(d)\")\n",
    "result7 = session.run(query7)\n",
    "print(\"Thomas and Joanne are now Friends!\")\n",
    "\n",
    "## Connect Joanne to Susan as Friends (Bi-Directional)\n",
    "query8 = (\"MATCH(s:Person{name:'Joanne'}),(d:Person{name:'Susan'}) CREATE (s)-[r:Friends_with]->(d)\")\n",
    "result8 = session.run(query8) \n",
    "print(\"Joanne and Susan are now Friends!\")\n",
    "query8a = (\"MATCH(s:Person{name:'Susan'}),(d:Person{name:'Joanne'}) CREATE (s)-[r:Friends_with]->(d)\")\n",
    "result8a = session.run(query8a) \n",
    "print(\"Joanne and Susan are now Friends Bi-Directionally!\")\n",
    "\n",
    "## Connect Thomas to Billy as Friends (Directional)\n",
    "query9 = (\"MATCH(s:Person{name:'Thomas'}),(d:Person{name:'Billy'}) CREATE (s)-[r:Friends_with]->(d)\")\n",
    "result9 = session.run(query9)\n",
    "print(\"Thomas and Billy are now Friends!\")"
   ]
  },
  {
   "cell_type": "markdown",
   "id": "golden-mainstream",
   "metadata": {
    "id": "golden-mainstream"
   },
   "source": [
    "#### Delete All Nodes and Relationships"
   ]
  },
  {
   "cell_type": "code",
   "execution_count": 14,
   "id": "accomplished-singapore",
   "metadata": {
    "id": "accomplished-singapore",
    "outputId": "a015d81e-6aeb-4432-8ed8-36db120bc420"
   },
   "outputs": [
    {
     "name": "stdout",
     "output_type": "stream",
     "text": [
      "All Nodes and relationships are deleted!\n"
     ]
    }
   ],
   "source": [
    "query10 = (\"MATCH (n) OPTIONAL MATCH (n)-[r]-() DELETE n,r\")\n",
    "result10 = session.run(query10)\n",
    "print(\"All Nodes and relationships are deleted!\")"
   ]
  },
  {
   "cell_type": "markdown",
   "id": "current-cooperation",
   "metadata": {
    "id": "current-cooperation"
   },
   "source": [
    "#### Import a Graph from a csv file\n",
    "##### Note: Import the CSV file into the Neo4j directory following the instructions in the Neo4j Installation Guide on Canvas"
   ]
  },
  {
   "cell_type": "markdown",
   "id": "tribal-plenty",
   "metadata": {
    "id": "tribal-plenty"
   },
   "source": [
    "##### Create Headquartered_in relation between city and country"
   ]
  },
  {
   "cell_type": "code",
   "execution_count": 15,
   "id": "improved-conservation",
   "metadata": {
    "id": "improved-conservation",
    "outputId": "79112c55-f807-4a74-d6a9-8044f0e218cd"
   },
   "outputs": [
    {
     "name": "stdout",
     "output_type": "stream",
     "text": [
      "All companies are imported from a csv file!\n"
     ]
    }
   ],
   "source": [
    "query11 = (\n",
    "    \"LOAD CSV WITH HEADERS FROM 'file:///companies.csv' AS line \"\n",
    "    \"CREATE (company:Company { \\\n",
    "                       name: line.companyName, \\\n",
    "                  employees: toInteger(line.employees),\\\n",
    "                       year: toInteger(line.founded), \\\n",
    "                    revenue: toFloat(line.annualRevenue) \\\n",
    "                            } \\\n",
    "            )\"\n",
    "     \"MERGE  (country:Country {name: line.country})\"    \n",
    "     \"CREATE (company)-[:HEADQUARTERED_IN]->(country)\"\n",
    "    )\n",
    "\n",
    "result11 = session.run(query11)\n",
    "print(\"All companies are imported from a csv file!\")"
   ]
  },
  {
   "cell_type": "markdown",
   "id": "prepared-projector",
   "metadata": {
    "id": "prepared-projector"
   },
   "source": [
    "##### See which companies match this first degree relation"
   ]
  },
  {
   "cell_type": "code",
   "execution_count": 16,
   "id": "public-alliance",
   "metadata": {
    "id": "public-alliance",
    "outputId": "7362bce9-7d53-4ea7-b0ce-10157dcdf20b"
   },
   "outputs": [
    {
     "data": {
      "text/plain": [
       "['Google', 'Amazon', 'Microsoft', 'Apple']"
      ]
     },
     "execution_count": 16,
     "metadata": {},
     "output_type": "execute_result"
    }
   ],
   "source": [
    "query14 = (\"MATCH (country:Country {name: 'USA'})--(company:Company) \\\n",
    "          RETURN DISTINCT company.name as companies\")\n",
    "result14 = session.run(query14)   \n",
    "[record[\"companies\"] for record in result14]"
   ]
  },
  {
   "cell_type": "code",
   "execution_count": 17,
   "id": "gothic-flash",
   "metadata": {
    "id": "gothic-flash",
    "outputId": "b1d4a828-c34f-4972-e9c3-6520ad6d0d3b"
   },
   "outputs": [
    {
     "name": "stdout",
     "output_type": "stream",
     "text": [
      "All Nodes and relationships are deleted!\n"
     ]
    }
   ],
   "source": [
    "result10 = session.run(query10)\n",
    "print(\"All Nodes and relationships are deleted!\")"
   ]
  },
  {
   "cell_type": "markdown",
   "id": "micro-coverage",
   "metadata": {
    "id": "micro-coverage"
   },
   "source": [
    "##### Create company-city-state-country relation"
   ]
  },
  {
   "cell_type": "code",
   "execution_count": 18,
   "id": "outstanding-portland",
   "metadata": {
    "id": "outstanding-portland",
    "outputId": "a43f2b9a-8795-4a57-d64d-d27ba1ee780e"
   },
   "outputs": [
    {
     "name": "stdout",
     "output_type": "stream",
     "text": [
      "All companies are imported from a csv file!\n"
     ]
    }
   ],
   "source": [
    "query11 = (\n",
    "    \"LOAD CSV WITH HEADERS FROM 'file:///companies.csv' AS line \"\n",
    "    \"CREATE (company:Company { \\\n",
    "                       name: line.companyName, \\\n",
    "                  employees: toInteger(line.employees),\\\n",
    "                       year: toInteger(line.founded), \\\n",
    "                    revenue: toFloat(line.annualRevenue) \\\n",
    "                            } \\\n",
    "            )\"\n",
    "     \"MERGE  (city:City {name: line.city})\"\n",
    "     \"MERGE  (state:State {name: line.state})\"\n",
    "     \"MERGE  (country:Country {name: line.country})\"    \n",
    "     \"CREATE (company)-[:HEADQUARTERED_IN]->(city)\"\n",
    "     \"CREATE (city)-[:LOCATED_IN]->(state)\"\n",
    "     \"CREATE (state)-[:PART_OF]->(country)\"\n",
    "    )\n",
    "\n",
    "result11 = session.run(query11)\n",
    "print(\"All companies are imported from a csv file!\")"
   ]
  },
  {
   "cell_type": "markdown",
   "id": "billion-headline",
   "metadata": {
    "id": "billion-headline"
   },
   "source": [
    "#### See the 3rd degree relation between company and country"
   ]
  },
  {
   "cell_type": "code",
   "execution_count": null,
   "id": "capital-peeing",
   "metadata": {
    "id": "capital-peeing",
    "outputId": "83f93ee1-557d-4ac3-f25e-7256210f48b0"
   },
   "outputs": [
    {
     "data": {
      "text/plain": [
       "['Samsung Electronics']"
      ]
     },
     "execution_count": 58,
     "metadata": {
      "tags": []
     },
     "output_type": "execute_result"
    }
   ],
   "source": [
    "query14 = (\"MATCH (country:Country {name: 'South Korea'})-[*3]-(company:Company) \\\n",
    "          RETURN DISTINCT company.name as companies\")\n",
    "result14 = session.run(query14)   \n",
    "[record[\"companies\"] for record in result14]"
   ]
  },
  {
   "cell_type": "markdown",
   "id": "senior-briefs",
   "metadata": {
    "id": "senior-briefs"
   },
   "source": [
    "#### Select All Nodes in the Graph and print them"
   ]
  },
  {
   "cell_type": "code",
   "execution_count": 19,
   "id": "complimentary-ivory",
   "metadata": {
    "id": "complimentary-ivory",
    "outputId": "6a228443-f286-4a05-8efb-fb429705c5ee"
   },
   "outputs": [
    {
     "data": {
      "text/plain": [
       "[<Node id=0 labels=frozenset({'Company'}) properties={'revenue': 274.5, 'year': 1976, 'name': 'Apple', 'employees': 147000}>,\n",
       " <Node id=1 labels=frozenset({'Company'}) properties={'revenue': 143.0, 'year': 1975, 'name': 'Microsoft', 'employees': 166475}>,\n",
       " <Node id=2 labels=frozenset({'Company'}) properties={'revenue': 386.0, 'year': 1994, 'name': 'Amazon', 'employees': 1298000}>,\n",
       " <Node id=3 labels=frozenset({'Company'}) properties={'revenue': 187.5, 'year': 1998, 'name': 'Google', 'employees': 135301}>,\n",
       " <Node id=4 labels=frozenset({'Company'}) properties={'revenue': 72.0, 'year': 1999, 'name': 'Alibaba', 'employees': 117600}>,\n",
       " <Node id=5 labels=frozenset({'Company'}) properties={'revenue': 76.0, 'year': 1946, 'name': 'Sony', 'employees': 114400}>,\n",
       " <Node id=6 labels=frozenset({'Company'}) properties={'revenue': 210.0, 'year': 1969, 'name': 'Samsung Electronics', 'employees': 290000}>,\n",
       " <Node id=7 labels=frozenset({'Company'}) properties={'revenue': 193.0, 'year': 1926, 'name': 'Daimler AG', 'employees': 298655}>,\n",
       " <Node id=8 labels=frozenset({'City'}) properties={'name': 'Cupertino'}>,\n",
       " <Node id=9 labels=frozenset({'City'}) properties={'name': 'Redmond'}>,\n",
       " <Node id=10 labels=frozenset({'City'}) properties={'name': 'Seattle'}>,\n",
       " <Node id=11 labels=frozenset({'City'}) properties={'name': 'Mountain View'}>,\n",
       " <Node id=12 labels=frozenset({'City'}) properties={'name': 'Hangzhou'}>,\n",
       " <Node id=13 labels=frozenset({'City'}) properties={'name': 'Tokyo'}>,\n",
       " <Node id=14 labels=frozenset({'City'}) properties={'name': 'Suwon'}>,\n",
       " <Node id=15 labels=frozenset({'City'}) properties={'name': 'Stuttgart'}>,\n",
       " <Node id=16 labels=frozenset({'State'}) properties={'name': 'California'}>,\n",
       " <Node id=17 labels=frozenset({'State'}) properties={'name': 'Washington'}>,\n",
       " <Node id=18 labels=frozenset({'State'}) properties={'name': 'Zhejiang'}>,\n",
       " <Node id=19 labels=frozenset({'State'}) properties={'name': 'Tokyo'}>,\n",
       " <Node id=20 labels=frozenset({'State'}) properties={'name': 'Gyeonggi'}>,\n",
       " <Node id=21 labels=frozenset({'State'}) properties={'name': 'Baden-Württemberg'}>,\n",
       " <Node id=22 labels=frozenset({'Country'}) properties={'name': 'USA'}>,\n",
       " <Node id=23 labels=frozenset({'Country'}) properties={'name': 'China'}>,\n",
       " <Node id=24 labels=frozenset({'Country'}) properties={'name': 'Japan'}>,\n",
       " <Node id=25 labels=frozenset({'Country'}) properties={'name': 'South Korea'}>,\n",
       " <Node id=26 labels=frozenset({'Country'}) properties={'name': 'Germany'}>]"
      ]
     },
     "execution_count": 19,
     "metadata": {},
     "output_type": "execute_result"
    }
   ],
   "source": [
    "result12 = session.run(\"MATCH (n) RETURN n as nodes\")\n",
    "[record[\"nodes\"] for record in result12]"
   ]
  },
  {
   "cell_type": "markdown",
   "id": "loved-highlight",
   "metadata": {
    "id": "loved-highlight"
   },
   "source": [
    "#### Count the number of Nodes in your graph"
   ]
  },
  {
   "cell_type": "code",
   "execution_count": 20,
   "id": "devoted-midwest",
   "metadata": {
    "id": "devoted-midwest",
    "outputId": "7fdc46b6-5f20-4756-da1e-3f0e2b1ba5c5"
   },
   "outputs": [
    {
     "data": {
      "text/plain": [
       "[27]"
      ]
     },
     "execution_count": 20,
     "metadata": {},
     "output_type": "execute_result"
    }
   ],
   "source": [
    "result13 = session.run(\"MATCH (n) RETURN count(n) as nodes_count\")\n",
    "[record[\"nodes_count\"] for record in result13]"
   ]
  },
  {
   "cell_type": "markdown",
   "id": "micro-redhead",
   "metadata": {
    "id": "micro-redhead"
   },
   "source": [
    "#### Get total number of employees for the companies based in Washington State"
   ]
  },
  {
   "cell_type": "code",
   "execution_count": 21,
   "id": "friendly-campbell",
   "metadata": {
    "id": "friendly-campbell",
    "outputId": "e5b335e6-49c6-4106-dacb-d0c6b9c3d142"
   },
   "outputs": [
    {
     "data": {
      "text/plain": [
       "[1464475]"
      ]
     },
     "execution_count": 21,
     "metadata": {},
     "output_type": "execute_result"
    }
   ],
   "source": [
    "query14 = (\"MATCH (company:Company)-[*1..3]-(state:State {name: 'Washington'}) \\\n",
    "            WITH DISTINCT company \\\n",
    "            RETURN sum(company.employees) as total_employees\")\n",
    "result14 = session.run(query14)   \n",
    "[record[\"total_employees\"] for record in result14]"
   ]
  },
  {
   "cell_type": "markdown",
   "id": "religious-bailey",
   "metadata": {
    "id": "religious-bailey"
   },
   "source": [
    "#### Get all of the companies that have more than 50000 employees"
   ]
  },
  {
   "cell_type": "code",
   "execution_count": 22,
   "id": "lightweight-infection",
   "metadata": {
    "id": "lightweight-infection",
    "outputId": "a1deb5d6-24c6-4d7f-ba0f-5fcf7ae86460"
   },
   "outputs": [
    {
     "name": "stdout",
     "output_type": "stream",
     "text": [
      "This is the company: Apple. This company has: 147000 employees\n",
      "This is the company: Microsoft. This company has: 166475 employees\n",
      "This is the company: Amazon. This company has: 1298000 employees\n",
      "This is the company: Google. This company has: 135301 employees\n",
      "This is the company: Alibaba. This company has: 117600 employees\n",
      "This is the company: Sony. This company has: 114400 employees\n",
      "This is the company: Samsung Electronics. This company has: 290000 employees\n",
      "This is the company: Daimler AG. This company has: 298655 employees\n"
     ]
    }
   ],
   "source": [
    "query15 = (\"MATCH (n) WHERE n.employees > 50000 RETURN *\")\n",
    "result15 = session.run(query15)  \n",
    "for record in result15:\n",
    "    print(\"This is the company: \" + record[0]['name']+\". This company has: \" + str(record[0]['employees']) +\" employees\" )"
   ]
  },
  {
   "cell_type": "markdown",
   "id": "confirmed-humidity",
   "metadata": {
    "id": "confirmed-humidity"
   },
   "source": [
    "#### Get all companies where name has micro in it"
   ]
  },
  {
   "cell_type": "code",
   "execution_count": null,
   "id": "desperate-salem",
   "metadata": {
    "id": "desperate-salem",
    "outputId": "ff98e9fa-3c7a-4886-9627-e6f9164aa160"
   },
   "outputs": [
    {
     "name": "stdout",
     "output_type": "stream",
     "text": [
      "The name of the company is: Microsoft\n",
      "<Record n.name='Microsoft' n=<Node id=10 labels=frozenset({'Company'}) properties={'name': 'Microsoft', 'revenue': 143.0, 'employees': 166475, 'year': 1975}>>\n"
     ]
    }
   ],
   "source": [
    "##Note: For Case Sensitive version of this query, run: MATCH (n) where n.name =~ '.*Micro.*' RETURN n.Name, n\n",
    "#Case not sensitive Query: \n",
    "query16 = (\"MATCH (n) where n.name =~ '.*(?i)micro.*' RETURN n.name, n\")\n",
    "result16 = session.run(query16)  \n",
    "for record in result16:\n",
    "    print(\"The name of the company is: \"+ record[1]['name'])\n",
    "    print(record)"
   ]
  },
  {
   "cell_type": "markdown",
   "id": "fifth-billy",
   "metadata": {
    "id": "fifth-billy"
   },
   "source": [
    "#### Delete all nodes & relationships"
   ]
  },
  {
   "cell_type": "code",
   "execution_count": 23,
   "id": "compound-guinea",
   "metadata": {
    "id": "compound-guinea"
   },
   "outputs": [
    {
     "name": "stdout",
     "output_type": "stream",
     "text": [
      "All Nodes and relationships are deleted!\n"
     ]
    }
   ],
   "source": [
    "query = (\"MATCH (n) DETACH DELETE n\")\n",
    "result = session.run(query)\n",
    "print(\"All Nodes and relationships are deleted!\")"
   ]
  },
  {
   "cell_type": "code",
   "execution_count": null,
   "id": "6415ec31-4c1f-4629-aef6-ae5b834c14ce",
   "metadata": {},
   "outputs": [],
   "source": []
  }
 ],
 "metadata": {
  "colab": {
   "collapsed_sections": [],
   "name": "Week7_Neo4j.ipynb",
   "provenance": []
  },
  "kernelspec": {
   "display_name": "Python 3",
   "language": "python",
   "name": "python3"
  },
  "language_info": {
   "codemirror_mode": {
    "name": "ipython",
    "version": 3
   },
   "file_extension": ".py",
   "mimetype": "text/x-python",
   "name": "python",
   "nbconvert_exporter": "python",
   "pygments_lexer": "ipython3",
   "version": "3.8.8"
  }
 },
 "nbformat": 4,
 "nbformat_minor": 5
}
